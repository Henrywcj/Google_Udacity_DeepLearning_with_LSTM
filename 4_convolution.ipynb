{
 "cells": [
  {
   "cell_type": "markdown",
   "metadata": {
    "colab_type": "text",
    "id": "4embtkV0pNxM"
   },
   "source": [
    "Deep Learning\n",
    "=============\n",
    "\n",
    "Assignment 4\n",
    "------------\n",
    "\n",
    "Previously in `2_fullyconnected.ipynb` and `3_regularization.ipynb`, we trained fully connected networks to classify [notMNIST](http://yaroslavvb.blogspot.com/2011/09/notmnist-dataset.html) characters.\n",
    "\n",
    "The goal of this assignment is make the neural network convolutional."
   ]
  },
  {
   "cell_type": "code",
   "execution_count": 1,
   "metadata": {
    "cellView": "both",
    "colab": {
     "autoexec": {
      "startup": false,
      "wait_interval": 0
     }
    },
    "colab_type": "code",
    "collapsed": true,
    "id": "tm2CQN_Cpwj0"
   },
   "outputs": [],
   "source": [
    "# These are all the modules we'll be using later. Make sure you can import them\n",
    "# before proceeding further.\n",
    "from __future__ import print_function\n",
    "import numpy as np\n",
    "import tensorflow as tf\n",
    "from six.moves import cPickle as pickle\n",
    "from six.moves import range"
   ]
  },
  {
   "cell_type": "code",
   "execution_count": 2,
   "metadata": {
    "cellView": "both",
    "colab": {
     "autoexec": {
      "startup": false,
      "wait_interval": 0
     },
     "output_extras": [
      {
       "item_id": 1
      }
     ]
    },
    "colab_type": "code",
    "executionInfo": {
     "elapsed": 11948,
     "status": "ok",
     "timestamp": 1446658914837,
     "user": {
      "color": "",
      "displayName": "",
      "isAnonymous": false,
      "isMe": true,
      "permissionId": "",
      "photoUrl": "",
      "sessionId": "0",
      "userId": ""
     },
     "user_tz": 480
    },
    "id": "y3-cj1bpmuxc",
    "outputId": "016b1a51-0290-4b08-efdb-8c95ffc3cd01"
   },
   "outputs": [
    {
     "name": "stdout",
     "output_type": "stream",
     "text": [
      "Training set (200000, 28, 28) (200000,)\n",
      "Validation set (10000, 28, 28) (10000,)\n",
      "Test set (10000, 28, 28) (10000,)\n"
     ]
    }
   ],
   "source": [
    "pickle_file = 'notMNIST.pickle'\n",
    "\n",
    "with open(pickle_file, 'rb') as f:\n",
    "  save = pickle.load(f)\n",
    "  train_dataset = save['train_dataset']\n",
    "  train_labels = save['train_labels']\n",
    "  valid_dataset = save['valid_dataset']\n",
    "  valid_labels = save['valid_labels']\n",
    "  test_dataset = save['test_dataset']\n",
    "  test_labels = save['test_labels']\n",
    "  del save  # hint to help gc free up memory\n",
    "  print('Training set', train_dataset.shape, train_labels.shape)\n",
    "  print('Validation set', valid_dataset.shape, valid_labels.shape)\n",
    "  print('Test set', test_dataset.shape, test_labels.shape)"
   ]
  },
  {
   "cell_type": "markdown",
   "metadata": {
    "colab_type": "text",
    "id": "L7aHrm6nGDMB"
   },
   "source": [
    "Reformat into a TensorFlow-friendly shape:\n",
    "- convolutions need the image data formatted as a cube (width by height by #channels)\n",
    "- labels as float 1-hot encodings."
   ]
  },
  {
   "cell_type": "code",
   "execution_count": 3,
   "metadata": {
    "cellView": "both",
    "colab": {
     "autoexec": {
      "startup": false,
      "wait_interval": 0
     },
     "output_extras": [
      {
       "item_id": 1
      }
     ]
    },
    "colab_type": "code",
    "executionInfo": {
     "elapsed": 11952,
     "status": "ok",
     "timestamp": 1446658914857,
     "user": {
      "color": "",
      "displayName": "",
      "isAnonymous": false,
      "isMe": true,
      "permissionId": "",
      "photoUrl": "",
      "sessionId": "0",
      "userId": ""
     },
     "user_tz": 480
    },
    "id": "IRSyYiIIGIzS",
    "outputId": "650a208c-8359-4852-f4f5-8bf10e80ef6c"
   },
   "outputs": [
    {
     "name": "stdout",
     "output_type": "stream",
     "text": [
      "Training set (200000, 28, 28, 1) (200000, 10)\n",
      "Validation set (10000, 28, 28, 1) (10000, 10)\n",
      "Test set (10000, 28, 28, 1) (10000, 10)\n"
     ]
    }
   ],
   "source": [
    "image_size = 28\n",
    "num_labels = 10\n",
    "num_channels = 1 # grayscale\n",
    "\n",
    "import numpy as np\n",
    "\n",
    "def reformat(dataset, labels):\n",
    "  dataset = dataset.reshape(\n",
    "    (-1, image_size, image_size, num_channels)).astype(np.float32)\n",
    "  labels = (np.arange(num_labels) == labels[:,None]).astype(np.float32)\n",
    "  return dataset, labels\n",
    "train_dataset, train_labels = reformat(train_dataset, train_labels)\n",
    "valid_dataset, valid_labels = reformat(valid_dataset, valid_labels)\n",
    "test_dataset, test_labels = reformat(test_dataset, test_labels)\n",
    "print('Training set', train_dataset.shape, train_labels.shape)\n",
    "print('Validation set', valid_dataset.shape, valid_labels.shape)\n",
    "print('Test set', test_dataset.shape, test_labels.shape)"
   ]
  },
  {
   "cell_type": "code",
   "execution_count": 4,
   "metadata": {
    "cellView": "both",
    "colab": {
     "autoexec": {
      "startup": false,
      "wait_interval": 0
     }
    },
    "colab_type": "code",
    "collapsed": true,
    "id": "AgQDIREv02p1"
   },
   "outputs": [],
   "source": [
    "def accuracy(predictions, labels):\n",
    "  return (100.0 * np.sum(np.argmax(predictions, 1) == np.argmax(labels, 1))\n",
    "          / predictions.shape[0])"
   ]
  },
  {
   "cell_type": "markdown",
   "metadata": {
    "colab_type": "text",
    "id": "5rhgjmROXu2O"
   },
   "source": [
    "Let's build a small network with two convolutional layers, followed by one fully connected layer. Convolutional networks are more expensive computationally, so we'll limit its depth and number of fully connected nodes."
   ]
  },
  {
   "cell_type": "code",
   "execution_count": 5,
   "metadata": {
    "cellView": "both",
    "colab": {
     "autoexec": {
      "startup": false,
      "wait_interval": 0
     }
    },
    "colab_type": "code",
    "collapsed": true,
    "id": "IZYv70SvvOan"
   },
   "outputs": [],
   "source": [
    "batch_size = 16\n",
    "patch_size = 5\n",
    "depth = 16\n",
    "num_hidden = 64\n",
    "\n",
    "graph = tf.Graph()\n",
    "\n",
    "with graph.as_default():\n",
    "\n",
    "  # Input data.\n",
    "  tf_train_dataset = tf.placeholder(\n",
    "    tf.float32, shape=(batch_size, image_size, image_size, num_channels))\n",
    "  tf_train_labels = tf.placeholder(tf.float32, shape=(batch_size, num_labels))\n",
    "  tf_valid_dataset = tf.constant(valid_dataset)\n",
    "  tf_test_dataset = tf.constant(test_dataset)\n",
    "  \n",
    "  # Variables.\n",
    "  layer1_weights = tf.Variable(tf.truncated_normal(\n",
    "      [patch_size, patch_size, num_channels, depth], stddev=0.1))\n",
    "  layer1_biases = tf.Variable(tf.zeros([depth]))\n",
    "  layer2_weights = tf.Variable(tf.truncated_normal(\n",
    "      [patch_size, patch_size, depth, depth], stddev=0.1))\n",
    "  layer2_biases = tf.Variable(tf.constant(1.0, shape=[depth]))\n",
    "  layer3_weights = tf.Variable(tf.truncated_normal(\n",
    "      [image_size // 4 * image_size // 4 * depth, num_hidden], stddev=0.1))\n",
    "  layer3_biases = tf.Variable(tf.constant(1.0, shape=[num_hidden]))\n",
    "  layer4_weights = tf.Variable(tf.truncated_normal(\n",
    "      [num_hidden, num_labels], stddev=0.1))\n",
    "  layer4_biases = tf.Variable(tf.constant(1.0, shape=[num_labels]))\n",
    "  \n",
    "  # Model.\n",
    "  def model(data):\n",
    "    conv = tf.nn.conv2d(data, layer1_weights, [1, 2, 2, 1], padding='SAME')\n",
    "    hidden = tf.nn.relu(conv + layer1_biases)\n",
    "    conv = tf.nn.conv2d(hidden, layer2_weights, [1, 2, 2, 1], padding='SAME')\n",
    "    hidden = tf.nn.relu(conv + layer2_biases)\n",
    "    shape = hidden.get_shape().as_list()\n",
    "    reshape = tf.reshape(hidden, [shape[0], shape[1] * shape[2] * shape[3]])\n",
    "    hidden = tf.nn.relu(tf.matmul(reshape, layer3_weights) + layer3_biases)\n",
    "    return tf.matmul(hidden, layer4_weights) + layer4_biases\n",
    "  \n",
    "  # Training computation.\n",
    "  logits = model(tf_train_dataset)\n",
    "  loss = tf.reduce_mean(\n",
    "    tf.nn.softmax_cross_entropy_with_logits(labels=tf_train_labels, logits=logits))\n",
    "    \n",
    "  # Optimizer.\n",
    "  optimizer = tf.train.GradientDescentOptimizer(0.05).minimize(loss)\n",
    "  \n",
    "  # Predictions for the training, validation, and test data.\n",
    "  train_prediction = tf.nn.softmax(logits)\n",
    "  valid_prediction = tf.nn.softmax(model(tf_valid_dataset))\n",
    "  test_prediction = tf.nn.softmax(model(tf_test_dataset))"
   ]
  },
  {
   "cell_type": "code",
   "execution_count": 6,
   "metadata": {
    "cellView": "both",
    "colab": {
     "autoexec": {
      "startup": false,
      "wait_interval": 0
     },
     "output_extras": [
      {
       "item_id": 37
      }
     ]
    },
    "colab_type": "code",
    "executionInfo": {
     "elapsed": 63292,
     "status": "ok",
     "timestamp": 1446658966251,
     "user": {
      "color": "",
      "displayName": "",
      "isAnonymous": false,
      "isMe": true,
      "permissionId": "",
      "photoUrl": "",
      "sessionId": "0",
      "userId": ""
     },
     "user_tz": 480
    },
    "id": "noKFb2UovVFR",
    "outputId": "28941338-2ef9-4088-8bd1-44295661e628"
   },
   "outputs": [
    {
     "name": "stdout",
     "output_type": "stream",
     "text": [
      "Initialized\n",
      "Minibatch loss at step 0: 3.639310\n",
      "Minibatch accuracy: 12.5%\n",
      "Validation accuracy: 10.0%\n",
      "Minibatch loss at step 50: 1.689787\n",
      "Minibatch accuracy: 37.5%\n",
      "Validation accuracy: 47.8%\n",
      "Minibatch loss at step 100: 1.353418\n",
      "Minibatch accuracy: 50.0%\n",
      "Validation accuracy: 61.1%\n",
      "Minibatch loss at step 150: 0.356923\n",
      "Minibatch accuracy: 87.5%\n",
      "Validation accuracy: 74.2%\n",
      "Minibatch loss at step 200: 0.933966\n",
      "Minibatch accuracy: 68.8%\n",
      "Validation accuracy: 78.1%\n",
      "Minibatch loss at step 250: 1.051230\n",
      "Minibatch accuracy: 75.0%\n",
      "Validation accuracy: 77.0%\n",
      "Minibatch loss at step 300: 0.565098\n",
      "Minibatch accuracy: 81.2%\n",
      "Validation accuracy: 79.2%\n",
      "Minibatch loss at step 350: 0.592616\n",
      "Minibatch accuracy: 93.8%\n",
      "Validation accuracy: 78.6%\n",
      "Minibatch loss at step 400: 0.270172\n",
      "Minibatch accuracy: 100.0%\n",
      "Validation accuracy: 80.3%\n",
      "Minibatch loss at step 450: 0.996736\n",
      "Minibatch accuracy: 75.0%\n",
      "Validation accuracy: 79.3%\n",
      "Minibatch loss at step 500: 0.843099\n",
      "Minibatch accuracy: 75.0%\n",
      "Validation accuracy: 81.2%\n",
      "Minibatch loss at step 550: 0.869053\n",
      "Minibatch accuracy: 81.2%\n",
      "Validation accuracy: 80.5%\n",
      "Minibatch loss at step 600: 0.527027\n",
      "Minibatch accuracy: 81.2%\n",
      "Validation accuracy: 81.9%\n",
      "Minibatch loss at step 650: 1.195597\n",
      "Minibatch accuracy: 75.0%\n",
      "Validation accuracy: 81.0%\n",
      "Minibatch loss at step 700: 0.820494\n",
      "Minibatch accuracy: 68.8%\n",
      "Validation accuracy: 81.5%\n",
      "Minibatch loss at step 750: 0.048412\n",
      "Minibatch accuracy: 100.0%\n",
      "Validation accuracy: 82.3%\n",
      "Minibatch loss at step 800: 0.678009\n",
      "Minibatch accuracy: 81.2%\n",
      "Validation accuracy: 82.7%\n",
      "Minibatch loss at step 850: 0.815895\n",
      "Minibatch accuracy: 81.2%\n",
      "Validation accuracy: 81.4%\n",
      "Minibatch loss at step 900: 0.467315\n",
      "Minibatch accuracy: 87.5%\n",
      "Validation accuracy: 82.5%\n",
      "Minibatch loss at step 950: 0.525686\n",
      "Minibatch accuracy: 81.2%\n",
      "Validation accuracy: 82.8%\n",
      "Minibatch loss at step 1000: 0.460807\n",
      "Minibatch accuracy: 87.5%\n",
      "Validation accuracy: 82.0%\n",
      "Test accuracy: 89.3%\n"
     ]
    }
   ],
   "source": [
    "num_steps = 1001\n",
    "\n",
    "with tf.Session(graph=graph) as session:\n",
    "  tf.global_variables_initializer().run()\n",
    "  print('Initialized')\n",
    "  for step in range(num_steps):\n",
    "    offset = (step * batch_size) % (train_labels.shape[0] - batch_size)\n",
    "    batch_data = train_dataset[offset:(offset + batch_size), :, :, :]\n",
    "    batch_labels = train_labels[offset:(offset + batch_size), :]\n",
    "    feed_dict = {tf_train_dataset : batch_data, tf_train_labels : batch_labels}\n",
    "    _, l, predictions = session.run(\n",
    "      [optimizer, loss, train_prediction], feed_dict=feed_dict)\n",
    "    if (step % 50 == 0):\n",
    "      print('Minibatch loss at step %d: %f' % (step, l))\n",
    "      print('Minibatch accuracy: %.1f%%' % accuracy(predictions, batch_labels))\n",
    "      print('Validation accuracy: %.1f%%' % accuracy(\n",
    "        valid_prediction.eval(), valid_labels))\n",
    "  print('Test accuracy: %.1f%%' % accuracy(test_prediction.eval(), test_labels))"
   ]
  },
  {
   "cell_type": "markdown",
   "metadata": {
    "colab_type": "text",
    "id": "KedKkn4EutIK"
   },
   "source": [
    "---\n",
    "Problem 1\n",
    "---------\n",
    "\n",
    "The convolutional model above uses convolutions with stride 2 to reduce the dimensionality. Replace the strides by a max pooling operation (`nn.max_pool()`) of stride 2 and kernel size 2.\n",
    "\n",
    "---"
   ]
  },
  {
   "cell_type": "code",
   "execution_count": 11,
   "metadata": {
    "collapsed": true
   },
   "outputs": [],
   "source": [
    "batch_size = 16\n",
    "patch_size = 5\n",
    "depth = 16\n",
    "num_hidden = 64\n",
    "\n",
    "graph = tf.Graph()\n",
    "\n",
    "with graph.as_default():\n",
    "\n",
    "  # Input data.\n",
    "  tf_train_dataset = tf.placeholder(\n",
    "    tf.float32, shape=(batch_size, image_size, image_size, num_channels))\n",
    "  tf_train_labels = tf.placeholder(tf.float32, shape=(batch_size, num_labels))\n",
    "  tf_valid_dataset = tf.constant(valid_dataset)\n",
    "  tf_test_dataset = tf.constant(test_dataset)\n",
    "  \n",
    "  # Variables.\n",
    "  layer1_weights = tf.Variable(tf.truncated_normal(\n",
    "      [patch_size, patch_size, num_channels, depth], stddev=0.1))\n",
    "  layer1_biases = tf.Variable(tf.zeros([depth]))\n",
    "  layer2_weights = tf.Variable(tf.truncated_normal(\n",
    "      [patch_size, patch_size, depth, depth], stddev=0.1))\n",
    "  layer2_biases = tf.Variable(tf.constant(1.0, shape=[depth]))\n",
    "  layer3_weights = tf.Variable(tf.truncated_normal(\n",
    "      [image_size // 4 * image_size // 4 * depth, num_hidden], stddev=0.1))\n",
    "  layer3_biases = tf.Variable(tf.constant(1.0, shape=[num_hidden]))\n",
    "  layer4_weights = tf.Variable(tf.truncated_normal(\n",
    "      [num_hidden, num_labels], stddev=0.1))\n",
    "  layer4_biases = tf.Variable(tf.constant(1.0, shape=[num_labels]))\n",
    "  \n",
    "  # Model.\n",
    "  def model(data):\n",
    "    conv = tf.nn.conv2d(data, layer1_weights, [1, 1, 1, 1], padding='SAME')\n",
    "    hidden = tf.nn.relu(conv + layer1_biases)\n",
    "    maxpool = tf.nn.max_pool(hidden, ksize = [1, 2, 2, 1], strides = [1, 2, 2, 1], padding = 'SAME')\n",
    "    conv = tf.nn.conv2d(maxpool, layer2_weights, [1, 1, 1, 1], padding='SAME')\n",
    "    hidden = tf.nn.relu(conv + layer2_biases)\n",
    "    maxpool = tf.nn.max_pool(hidden, ksize = [1, 2, 2, 1], strides = [1, 2, 2, 1], padding = 'SAME')\n",
    "    shape = maxpool.get_shape().as_list()\n",
    "    reshape = tf.reshape(maxpool, [shape[0], shape[1] * shape[2] * shape[3]])\n",
    "    hidden = tf.nn.relu(tf.matmul(reshape, layer3_weights) + layer3_biases)\n",
    "    return tf.matmul(hidden, layer4_weights) + layer4_biases\n",
    "  \n",
    "  # Training computation.\n",
    "  logits = model(tf_train_dataset)\n",
    "  loss = tf.reduce_mean(\n",
    "    tf.nn.softmax_cross_entropy_with_logits(labels=tf_train_labels, logits=logits))\n",
    "    \n",
    "  # Optimizer.\n",
    "  optimizer = tf.train.GradientDescentOptimizer(0.05).minimize(loss)\n",
    "  \n",
    "  # Predictions for the training, validation, and test data.\n",
    "  train_prediction = tf.nn.softmax(logits)\n",
    "  valid_prediction = tf.nn.softmax(model(tf_valid_dataset))\n",
    "  test_prediction = tf.nn.softmax(model(tf_test_dataset))"
   ]
  },
  {
   "cell_type": "code",
   "execution_count": 12,
   "metadata": {},
   "outputs": [
    {
     "name": "stdout",
     "output_type": "stream",
     "text": [
      "Initialized\n",
      "Minibatch loss at step 0: 2.865362\n",
      "Minibatch accuracy: 12.5%\n",
      "Validation accuracy: 12.1%\n",
      "Minibatch loss at step 50: 1.333262\n",
      "Minibatch accuracy: 50.0%\n",
      "Validation accuracy: 50.5%\n",
      "Minibatch loss at step 100: 1.169738\n",
      "Minibatch accuracy: 56.2%\n",
      "Validation accuracy: 65.6%\n",
      "Minibatch loss at step 150: 0.290796\n",
      "Minibatch accuracy: 87.5%\n",
      "Validation accuracy: 75.6%\n",
      "Minibatch loss at step 200: 1.243008\n",
      "Minibatch accuracy: 62.5%\n",
      "Validation accuracy: 78.2%\n",
      "Minibatch loss at step 250: 0.965808\n",
      "Minibatch accuracy: 62.5%\n",
      "Validation accuracy: 77.4%\n",
      "Minibatch loss at step 300: 0.489816\n",
      "Minibatch accuracy: 81.2%\n",
      "Validation accuracy: 80.3%\n",
      "Minibatch loss at step 350: 0.673513\n",
      "Minibatch accuracy: 81.2%\n",
      "Validation accuracy: 77.2%\n",
      "Minibatch loss at step 400: 0.298199\n",
      "Minibatch accuracy: 93.8%\n",
      "Validation accuracy: 81.2%\n",
      "Minibatch loss at step 450: 0.961759\n",
      "Minibatch accuracy: 75.0%\n",
      "Validation accuracy: 80.0%\n",
      "Minibatch loss at step 500: 0.751367\n",
      "Minibatch accuracy: 81.2%\n",
      "Validation accuracy: 82.3%\n",
      "Minibatch loss at step 550: 1.038021\n",
      "Minibatch accuracy: 81.2%\n",
      "Validation accuracy: 82.1%\n",
      "Minibatch loss at step 600: 0.447882\n",
      "Minibatch accuracy: 87.5%\n",
      "Validation accuracy: 82.7%\n",
      "Minibatch loss at step 650: 1.078881\n",
      "Minibatch accuracy: 75.0%\n",
      "Validation accuracy: 82.9%\n",
      "Minibatch loss at step 700: 0.676631\n",
      "Minibatch accuracy: 81.2%\n",
      "Validation accuracy: 82.5%\n",
      "Minibatch loss at step 750: 0.024421\n",
      "Minibatch accuracy: 100.0%\n",
      "Validation accuracy: 83.7%\n",
      "Minibatch loss at step 800: 0.576877\n",
      "Minibatch accuracy: 75.0%\n",
      "Validation accuracy: 84.0%\n",
      "Minibatch loss at step 850: 0.923658\n",
      "Minibatch accuracy: 81.2%\n",
      "Validation accuracy: 83.3%\n",
      "Minibatch loss at step 900: 0.427483\n",
      "Minibatch accuracy: 87.5%\n",
      "Validation accuracy: 84.3%\n",
      "Minibatch loss at step 950: 0.456990\n",
      "Minibatch accuracy: 87.5%\n",
      "Validation accuracy: 83.7%\n",
      "Minibatch loss at step 1000: 0.257479\n",
      "Minibatch accuracy: 93.8%\n",
      "Validation accuracy: 83.6%\n",
      "Test accuracy: 90.4%\n"
     ]
    }
   ],
   "source": [
    "num_steps = 1001\n",
    "\n",
    "with tf.Session(graph=graph) as session:\n",
    "  tf.global_variables_initializer().run()\n",
    "  print('Initialized')\n",
    "  for step in range(num_steps):\n",
    "    offset = (step * batch_size) % (train_labels.shape[0] - batch_size)\n",
    "    batch_data = train_dataset[offset:(offset + batch_size), :, :, :]\n",
    "    batch_labels = train_labels[offset:(offset + batch_size), :]\n",
    "    feed_dict = {tf_train_dataset : batch_data, tf_train_labels : batch_labels}\n",
    "    _, l, predictions = session.run(\n",
    "      [optimizer, loss, train_prediction], feed_dict=feed_dict)\n",
    "    if (step % 50 == 0):\n",
    "      print('Minibatch loss at step %d: %f' % (step, l))\n",
    "      print('Minibatch accuracy: %.1f%%' % accuracy(predictions, batch_labels))\n",
    "      print('Validation accuracy: %.1f%%' % accuracy(\n",
    "        valid_prediction.eval(), valid_labels))\n",
    "  print('Test accuracy: %.1f%%' % accuracy(test_prediction.eval(), test_labels))"
   ]
  },
  {
   "cell_type": "markdown",
   "metadata": {
    "colab_type": "text",
    "id": "klf21gpbAgb-"
   },
   "source": [
    "---\n",
    "Problem 2\n",
    "---------\n",
    "\n",
    "Try to get the best performance you can using a convolutional net. Look for example at the classic [LeNet5](http://yann.lecun.com/exdb/lenet/) architecture, adding Dropout, and/or adding learning rate decay.\n",
    "\n",
    "---"
   ]
  },
  {
   "cell_type": "code",
   "execution_count": 7,
   "metadata": {},
   "outputs": [
    {
     "name": "stdout",
     "output_type": "stream",
     "text": [
      "Training set (200000, 28, 28, 1) (200000, 10)\n",
      "Validation set (10000, 28, 28, 1) (10000, 10)\n",
      "Test set (10000, 28, 28, 1) (10000, 10)\n"
     ]
    }
   ],
   "source": [
    "#datasets\n",
    "print('Training set', train_dataset.shape, train_labels.shape)\n",
    "print('Validation set', valid_dataset.shape, valid_labels.shape)\n",
    "print('Test set', test_dataset.shape, test_labels.shape)"
   ]
  },
  {
   "cell_type": "code",
   "execution_count": 29,
   "metadata": {
    "collapsed": true
   },
   "outputs": [],
   "source": [
    "# Some constant\n",
    "batch_size = 10 # smaller to make the CPU ok\n",
    "patch_size = 3 # still can vary \n",
    "depth = 1 # gray scale image\n",
    "num_labels = 10\n",
    "image_size = 28\n",
    "num_channels = 16\n",
    "hidden_num = 1024"
   ]
  },
  {
   "cell_type": "code",
   "execution_count": 86,
   "metadata": {},
   "outputs": [],
   "source": [
    "#hypterparameter \n",
    "learn_rate = 0.1\n",
    "beta1 = 0.01\n",
    "beta2 = 0.01\n",
    "beta3 = 0.01\n",
    "beta4 = 0.01\n",
    "#dropout probability? \n",
    "\n",
    "\n",
    "graph = tf.Graph()\n",
    "\n",
    "with graph.as_default():\n",
    "    #input\n",
    "    tf_train_data = tf.placeholder(tf.float32, shape = [batch_size, image_size, image_size, depth])\n",
    "    tf_train_labels = tf.placeholder(tf.float32, shape = [batch_size, num_labels])\n",
    "    tf_valid_data = tf.constant(valid_dataset)\n",
    "    tf_test_data = tf.constant(test_dataset)\n",
    "    \n",
    "    #parameters\n",
    "    with tf.variable_scope('conv1') as scope:\n",
    "        weight1 = tf.get_variable(\n",
    "            \"conv_weight_1\", shape = [patch_size, patch_size, depth, num_channels], initializer=tf.contrib.layers.xavier_initializer())\n",
    "        biases1 = tf.get_variable(\"conv_bias_1\", initializer = tf.zeros(num_channels))\n",
    "    \n",
    "    with tf.variable_scope('conv2') as scope:\n",
    "        weight2 = tf.get_variable(\n",
    "            \"conv_weight_2\", shape = [patch_size, patch_size, num_channels, num_channels], initializer = tf.contrib.layers.xavier_initializer())\n",
    "        biases2 = tf.get_variable(\"conv_bias_2\", initializer = tf.zeros(num_channels))\n",
    "    with tf.variable_scope('affine1') as scope:\n",
    "        weight3 = tf.get_variable(\"fully_connected_weigths_1\", shape = [784, hidden_num], initializer = tf.contrib.layers.xavier_initializer())\n",
    "        biases3 = tf.get_variable(\"fully_connected_biases_1\", initializer = tf.zeros(hidden_num))\n",
    "    with tf.variable_scope('affine2') as scope:\n",
    "        weight4 = tf.get_variable(\"fully_connected_weights_2\", shape = [hidden_num, num_labels], initializer = tf.contrib.layers.xavier_initializer())\n",
    "        biases4 = tf.get_variable(\"fully_connected_biases_2\", initializer = tf.zeros(num_labels))\n",
    "    global_step = tf.Variable(0, trainable=False)\n",
    "    \n",
    "    #model calculation \n",
    "    def model(data, is_training): # is_training for dropout \n",
    "        #Conv layer 1\n",
    "        \n",
    "        conv1 = tf.nn.conv2d(data, weight1, strides = [1, 1, 1, 1], padding = \"SAME\") + biases1\n",
    "        # relu & maxpool\n",
    "        conv1 = tf.nn.relu(conv1)\n",
    "        conv1 = tf.nn.max_pool(conv1, [1, 2, 2, 1], strides = [1, 2, 2, 1], padding = \"SAME\")\n",
    "        #dropout\n",
    "        if is_training:\n",
    "            conv1 = tf.nn.dropout(conv1, 0.5)\n",
    "        \n",
    "        #Conv layer 2\n",
    "        \n",
    "        conv2 = tf.nn.conv2d(conv1, weight2, strides = [1, 1, 1, 1], padding = \"SAME\") + biases2\n",
    "        # relu & maxpool\n",
    "        conv2 = tf.nn.relu(conv2)\n",
    "        conv2 = tf.nn.max_pool(conv2, [1, 2, 2, 1], strides = [1, 2, 2, 1], padding = \"SAME\")\n",
    "        #dropout \n",
    "        if is_training:\n",
    "            conv2 = tf.nn.dropout(conv2, 0.5)\n",
    "        \n",
    "        #flatten operation \n",
    "        shape = conv2.get_shape().as_list()\n",
    "        flatten = tf.reshape(conv2, shape = [shape[0], shape[1] * shape[2] * shape[3]])\n",
    "\n",
    "        #affine layer\n",
    "        affine1 = tf.nn.relu(tf.matmul(flatten, weight3) + biases3)\n",
    "        #dropout\n",
    "        if is_training:\n",
    "            affine1 = tf.nn.dropout(affine1, 0.5)\n",
    "\n",
    "        logits = tf.matmul(affine1, weight4) + biases4\n",
    "            \n",
    "        return logits\n",
    "        \n",
    "    #loss\n",
    "    logits = model(tf_train_data, True)\n",
    "    loss = tf.reduce_mean(tf.nn.softmax_cross_entropy_with_logits(labels = tf_train_labels, logits = logits)) + (\n",
    "        beta1 * tf.nn.l2_loss(weight1) + beta2 * tf.nn.l2_loss(weight2) + beta3 * tf.nn.l2_loss(weight3) + beta4 * tf.nn.l2_loss(weight4))\n",
    "    \n",
    "    #optimizers \n",
    "    #learning_rate decay\n",
    "    start_learning_rate = learn_rate\n",
    "    learning_rate = tf.train.exponential_decay(start_learning_rate, global_step, 500, 0.96)\n",
    "    optimizer = tf.train.GradientDescentOptimizer(learning_rate).minimize(loss, global_step = global_step) \n",
    "    #prediction & accuracy \n",
    "    train_prediction = tf.nn.softmax(logits)\n",
    "    valid_prediction = tf.nn.softmax(model(tf_valid_data, False))\n",
    "    test_prediction = tf.nn.softmax(model(tf_test_data, False))\n"
   ]
  },
  {
   "cell_type": "code",
   "execution_count": 87,
   "metadata": {},
   "outputs": [
    {
     "data": {
      "text/plain": [
       "<tensorflow.python.framework.ops.Graph at 0x1c90f47eb38>"
      ]
     },
     "execution_count": 87,
     "metadata": {},
     "output_type": "execute_result"
    }
   ],
   "source": [
    "tf.get_default_graph()"
   ]
  },
  {
   "cell_type": "code",
   "execution_count": 88,
   "metadata": {},
   "outputs": [
    {
     "data": {
      "text/plain": [
       "[('__varscope',),\n",
       " 'train_op',\n",
       " 'trainable_variables',\n",
       " ('__variable_store',),\n",
       " 'variables']"
      ]
     },
     "execution_count": 88,
     "metadata": {},
     "output_type": "execute_result"
    }
   ],
   "source": [
    "graph.collections"
   ]
  },
  {
   "cell_type": "code",
   "execution_count": 89,
   "metadata": {},
   "outputs": [
    {
     "data": {
      "text/plain": [
       "[<tf.Variable 'conv1/conv_weight_1:0' shape=(3, 3, 1, 16) dtype=float32_ref>,\n",
       " <tf.Variable 'conv1/conv_bias_1:0' shape=(16,) dtype=float32_ref>,\n",
       " <tf.Variable 'conv2/conv_weight_2:0' shape=(3, 3, 16, 16) dtype=float32_ref>,\n",
       " <tf.Variable 'conv2/conv_bias_2:0' shape=(16,) dtype=float32_ref>,\n",
       " <tf.Variable 'affine1/fully_connected_weigths_1:0' shape=(784, 1024) dtype=float32_ref>,\n",
       " <tf.Variable 'affine1/fully_connected_biases_1:0' shape=(1024,) dtype=float32_ref>,\n",
       " <tf.Variable 'affine2/fully_connected_weights_2:0' shape=(1024, 10) dtype=float32_ref>,\n",
       " <tf.Variable 'affine2/fully_connected_biases_2:0' shape=(10,) dtype=float32_ref>]"
      ]
     },
     "execution_count": 89,
     "metadata": {},
     "output_type": "execute_result"
    }
   ],
   "source": [
    "graph.get_collection('trainable_variables')\n"
   ]
  },
  {
   "cell_type": "code",
   "execution_count": 90,
   "metadata": {},
   "outputs": [
    {
     "name": "stdout",
     "output_type": "stream",
     "text": [
      "initialized\n",
      "iteration number: 0, loss: 7.05952262878418\n",
      "prediction accuracy: 10.0%\n",
      "validation accuracy: 10.09%\n",
      "iteration number: 500, loss: 3.2952589988708496\n",
      "prediction accuracy: 80.0%\n",
      "validation accuracy: 77.16%\n",
      "iteration number: 1000, loss: 1.664052963256836\n",
      "prediction accuracy: 80.0%\n",
      "validation accuracy: 82.19%\n",
      "iteration number: 1500, loss: 1.359892725944519\n",
      "prediction accuracy: 80.0%\n",
      "validation accuracy: 81.55%\n",
      "iteration number: 2000, loss: 2.0611658096313477\n",
      "prediction accuracy: 60.0%\n",
      "validation accuracy: 80.95%\n",
      "iteration number: 2500, loss: 1.6394010782241821\n",
      "prediction accuracy: 70.0%\n",
      "validation accuracy: 82.46%\n",
      "iteration number: 3000, loss: 1.50675368309021\n",
      "prediction accuracy: 60.0%\n",
      "validation accuracy: 81.01%\n",
      "iteration number: 3500, loss: 1.6431821584701538\n",
      "prediction accuracy: 80.0%\n",
      "validation accuracy: 82.96%\n",
      "iteration number: 4000, loss: 1.2965352535247803\n",
      "prediction accuracy: 80.0%\n",
      "validation accuracy: 83.08%\n",
      "iteration number: 4500, loss: 1.4099926948547363\n",
      "prediction accuracy: 70.0%\n",
      "validation accuracy: 81.36%\n",
      "iteration number: 5000, loss: 1.367981195449829\n",
      "prediction accuracy: 80.0%\n",
      "validation accuracy: 82.75%\n",
      "iteration number: 5500, loss: 1.4525694847106934\n",
      "prediction accuracy: 70.0%\n",
      "validation accuracy: 83.15%\n",
      "iteration number: 6000, loss: 1.6322650909423828\n",
      "prediction accuracy: 70.0%\n",
      "validation accuracy: 83.02%\n",
      "test accuracy: 90.43%\n"
     ]
    }
   ],
   "source": [
    "def accuracy(predictions, labels):\n",
    "    return (100.0 * np.sum(np.argmax(predictions, 1) == np.argmax(labels, 1))/predictions.shape[0])\n",
    "\n",
    "num_iter = 6001 \n",
    "with tf.Session(graph = graph) as session: \n",
    "    #initialization\n",
    "    session.run(tf.global_variables_initializer())\n",
    "    print (\"initialized\")\n",
    "    #training\n",
    "    for i in range(num_iter):\n",
    "        batch_num = (i*batch_size) % (train_dataset.shape[0] - batch_size)\n",
    "        x_minibatch = train_dataset[batch_num:(batch_num + batch_size), :, :, :]\n",
    "        y_minibatch = train_labels[batch_num:(batch_num + batch_size), :]\n",
    "        feed_dict = {tf_train_data:x_minibatch, tf_train_labels:y_minibatch}\n",
    "        _, l, prediction = session.run([optimizer, loss, train_prediction], feed_dict = feed_dict)\n",
    "        if i % 500 == 0:\n",
    "            print (\"iteration number: {0}, loss: {1}\".format(i, l))\n",
    "            print (\"prediction accuracy: {0}%\".format(accuracy(prediction, y_minibatch)))\n",
    "            print (\"validation accuracy: {0}%\".format(accuracy(valid_prediction.eval(), valid_labels)))\n",
    "    #testing\n",
    "    print (\"test accuracy: {0}%\".format(accuracy(test_prediction.eval(), test_labels)))"
   ]
  }
 ],
 "metadata": {
  "colab": {
   "default_view": {},
   "name": "4_convolutions.ipynb",
   "provenance": [],
   "version": "0.3.2",
   "views": {}
  },
  "kernelspec": {
   "display_name": "Python 3",
   "language": "python",
   "name": "python3"
  },
  "language_info": {
   "codemirror_mode": {
    "name": "ipython",
    "version": 3
   },
   "file_extension": ".py",
   "mimetype": "text/x-python",
   "name": "python",
   "nbconvert_exporter": "python",
   "pygments_lexer": "ipython3",
   "version": "3.5.4"
  }
 },
 "nbformat": 4,
 "nbformat_minor": 1
}
