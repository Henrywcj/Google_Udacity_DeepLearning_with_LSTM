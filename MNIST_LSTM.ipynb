{
 "cells": [
  {
   "cell_type": "code",
   "execution_count": 27,
   "metadata": {},
   "outputs": [
    {
     "name": "stdout",
     "output_type": "stream",
     "text": [
      "Extracting MNIST_data\\train-images-idx3-ubyte.gz\n",
      "Extracting MNIST_data\\train-labels-idx1-ubyte.gz\n",
      "Extracting MNIST_data\\t10k-images-idx3-ubyte.gz\n",
      "Extracting MNIST_data\\t10k-labels-idx1-ubyte.gz\n"
     ]
    }
   ],
   "source": [
    "import tensorflow as tf\n",
    "from tensorflow.examples.tutorials.mnist import input_data\n",
    "import numpy as np\n",
    "\n",
    "# set random seed for comparing the two result calculations\n",
    "tf.set_random_seed(1)\n",
    "\n",
    "# this is data\n",
    "mnist = input_data.read_data_sets('MNIST_data', one_hot=True)"
   ]
  },
  {
   "cell_type": "code",
   "execution_count": 28,
   "metadata": {
    "collapsed": true
   },
   "outputs": [],
   "source": [
    "# hyperparameters\n",
    "lr = 0.001\n",
    "training_iters = 1000\n",
    "batch_size = 128\n",
    "\n",
    "n_inputs = 28   # MNIST data input (img shape: 28*28)\n",
    "n_steps = 28    # time steps\n",
    "n_hidden_units = 128   # neurons in hidden layer\n",
    "n_classes = 10      # MNIST classes (0-9 digits)"
   ]
  },
  {
   "cell_type": "code",
   "execution_count": 1,
   "metadata": {},
   "outputs": [
    {
     "data": {
      "text/plain": [
       "2.0"
      ]
     },
     "execution_count": 1,
     "metadata": {},
     "output_type": "execute_result"
    }
   ],
   "source": [
    "a = [1,2,3]\n",
    "sum(a)/len(a)"
   ]
  },
  {
   "cell_type": "code",
   "execution_count": 30,
   "metadata": {
    "collapsed": true
   },
   "outputs": [],
   "source": [
    "graph = tf.Graph()\n",
    "with graph.as_default():\n",
    "    # input \n",
    "    x = tf.placeholder(tf.float32, shape=[None, n_steps, n_inputs])\n",
    "    y = tf.placeholder(tf.float32, shape=[None, n_classes])\n",
    "    \n",
    "    #parameters\n",
    "    weights = {\n",
    "        'in':tf.Variable(tf.random_normal([n_inputs, n_hidden_units])),\n",
    "        'out':tf.Variable(tf.random_normal([n_hidden_units, n_classes]))\n",
    "    }\n",
    "    biases = {\n",
    "        'in': tf.Variable(tf.constant(0.1, shape=[n_hidden_units,])),\n",
    "        'out': tf.Variable(tf.constant(0.1, shape=[n_classes,]))\n",
    "    }\n",
    "    \n",
    "    #computations\n",
    "    def RNN(X, weights, biases):\n",
    "        #hidden layers to cell \n",
    "        #X ==> (128 batch * 28 steps, 28 inputs)\n",
    "        X = tf.reshape(X, [-1, n_inputs])\n",
    "        #X_in = (128 batch, 28 steps, 128 hidden)\n",
    "        X_in = tf.reshape(tf.matmul(X, weights['in']) + biases['in'], shape=[-1, n_steps, n_hidden_units])\n",
    "        \n",
    "        #cell \n",
    "        cell = tf.contrib.rnn.BasicLSTMCell(n_hidden_units)\n",
    "        init_state = cell.zero_state(batch_size, dtype=tf.float32)\n",
    "        #init_state = tf.zeros([batch_size, cell.state_size])\n",
    "        \n",
    "        output, final_state = tf.nn.dynamic_rnn(cell, X_in, initial_state = init_state, time_major=False)\n",
    "        \n",
    "        #hidden layer for output as the final results\n",
    "        outputs = tf.unstack(tf.transpose(output, [1,0,2]))\n",
    "        results = tf.matmul(outputs[-1], weights['out']) + biases['out']\n",
    "        \n",
    "        return results\n",
    "    \n",
    "    #loss & Optimizer \n",
    "    pred = RNN(x, weights, biases)\n",
    "    loss = tf.reduce_mean(tf.nn.softmax_cross_entropy_with_logits(labels = y, logits = pred))\n",
    "    optimizer = tf.train.AdamOptimizer(lr).minimize(loss)\n",
    "    \n",
    "    accuracy = tf.reduce_mean(tf.cast(tf.equal(tf.argmax(pred, 1), tf.argmax(y, 1)), tf.float32))"
   ]
  },
  {
   "cell_type": "code",
   "execution_count": 26,
   "metadata": {},
   "outputs": [
    {
     "name": "stdout",
     "output_type": "stream",
     "text": [
      "0.164063\n",
      "0.695313\n",
      "0.773438\n",
      "0.820313\n",
      "0.765625\n",
      "0.875\n",
      "0.890625\n",
      "0.890625\n",
      "0.914063\n",
      "0.859375\n",
      "0.875\n",
      "0.921875\n",
      "0.929688\n",
      "0.898438\n",
      "0.921875\n",
      "0.921875\n",
      "0.945313\n",
      "0.96875\n",
      "0.945313\n",
      "0.945313\n",
      "0.96875\n",
      "0.96875\n",
      "0.953125\n",
      "0.953125\n",
      "0.945313\n",
      "0.960938\n",
      "0.945313\n",
      "0.929688\n",
      "0.945313\n",
      "0.953125\n",
      "0.945313\n",
      "0.945313\n",
      "0.953125\n",
      "0.960938\n",
      "0.953125\n",
      "0.960938\n",
      "0.960938\n",
      "0.984375\n",
      "0.976563\n",
      "0.984375\n"
     ]
    }
   ],
   "source": [
    "with tf.Session(graph=graph) as sess:\n",
    "    # tf.initialize_all_variables() no long valid from\n",
    "    # 2017-03-02 if using tensorflow >= 0.12\n",
    "    if int((tf.__version__).split('.')[1]) < 12 and int((tf.__version__).split('.')[0]) < 1:\n",
    "        init = tf.initialize_all_variables()\n",
    "    else:\n",
    "        init = tf.global_variables_initializer()\n",
    "    sess.run(init)\n",
    "    step = 0\n",
    "    while step * batch_size < training_iters:\n",
    "        batch_xs, batch_ys = mnist.train.next_batch(batch_size)\n",
    "        batch_xs = batch_xs.reshape([batch_size, n_steps, n_inputs])\n",
    "        sess.run([optimizer], feed_dict={\n",
    "            x: batch_xs,\n",
    "            y: batch_ys,\n",
    "        })\n",
    "        if step % 20 == 0:\n",
    "            print(sess.run(accuracy, feed_dict={\n",
    "            x: batch_xs,\n",
    "            y: batch_ys,\n",
    "            }))\n",
    "        step += 1\n",
    "    "
   ]
  }
 ],
 "metadata": {
  "kernelspec": {
   "display_name": "Python 3",
   "language": "python",
   "name": "python3"
  },
  "language_info": {
   "codemirror_mode": {
    "name": "ipython",
    "version": 3
   },
   "file_extension": ".py",
   "mimetype": "text/x-python",
   "name": "python",
   "nbconvert_exporter": "python",
   "pygments_lexer": "ipython3",
   "version": "3.5.4"
  }
 },
 "nbformat": 4,
 "nbformat_minor": 1
}
